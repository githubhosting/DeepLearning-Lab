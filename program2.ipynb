{
 "cells": [
  {
   "attachments": {},
   "cell_type": "markdown",
   "metadata": {},
   "source": [
    "### Program 2:\n",
    "#### Objective:\n",
    "Train a simple Artificial Neural Network on the MNIST digit classification dataset using the PyTorch\n",
    "framework. Perform the following steps:\n",
    "- Preprocess data\n",
    "- Define model architecture\n",
    "- Define model train function\n",
    "- Train model using suitable criterion and optimizer"
   ]
  },
  {
   "cell_type": "code",
   "metadata": {
    "ExecuteTime": {
     "end_time": "2024-06-07T02:59:04.348610Z",
     "start_time": "2024-06-07T02:59:04.317650Z"
    }
   },
   "source": [
    "import torch\n",
    "import torch.nn as nn\n",
    "import torch.optim as optim\n",
    "from torchvision import datasets, transforms"
   ],
   "outputs": [],
   "execution_count": 4
  },
  {
   "cell_type": "code",
   "metadata": {
    "ExecuteTime": {
     "end_time": "2024-06-07T02:59:04.826555Z",
     "start_time": "2024-06-07T02:59:04.811356Z"
    }
   },
   "source": "from torch.utils.data import DataLoader, Subset",
   "outputs": [],
   "execution_count": 5
  },
  {
   "cell_type": "code",
   "metadata": {},
   "source": [
    "transform = transforms.Compose([\n",
    "    transforms.ToTensor(),\n",
    "    transforms.Normalize((0.1307,), (0.3081,))\n",
    "])\n",
    "train_dataset = datasets.MNIST(root=\"./data\", train=True, download=False, transform=transform)\n",
    "test_dataset = datasets.MNIST(root=\"./data\", train=False, download=False, transform=transform)\n",
    "train_subset = Subset(train_dataset, range(200))\n",
    "test_subset = Subset(test_dataset, range(50))\n",
    "train_loader = DataLoader(train_subset, batch_size=10, shuffle=True)\n",
    "test_loader = DataLoader(test_subset, batch_size=10, shuffle=False)"
   ],
   "outputs": [],
   "execution_count": null
  },
  {
   "cell_type": "code",
   "execution_count": 6,
   "metadata": {},
   "outputs": [],
   "source": [
    "class SimpleANN(nn.Module):\n",
    "    def __init__(self):\n",
    "        super(SimpleANN, self).__init__()\n",
    "        self.fc1 = nn.Linear(28 * 28, 128)\n",
    "        self.fc2 = nn.Linear(128, 64)\n",
    "        self.fc3 = nn.Linear(64, 10)\n",
    "\n",
    "    def forward(self, x):\n",
    "        x = torch.flatten(x, start_dim=1)\n",
    "        x = torch.relu(self.fc1(x))\n",
    "        x = torch.relu(self.fc2(x))\n",
    "        x = self.fc3(x)\n",
    "        return x\n",
    "\n",
    "\n",
    "model = SimpleANN()\n",
    "optimizer = optim.Adam(model.parameters(), lr=0.001)\n",
    "criterion = nn.CrossEntropyLoss()\n"
   ]
  },
  {
   "cell_type": "code",
   "execution_count": 10,
   "metadata": {},
   "outputs": [],
   "source": [
    "def train_model(num_epochs):\n",
    "    for epoch in range(num_epochs):\n",
    "        model.train()\n",
    "        train_loss = 0\n",
    "        correct_train = 0\n",
    "        total_train = 0\n",
    "        for data, target in train_loader:\n",
    "            optimizer.zero_grad()\n",
    "            output = model(data)\n",
    "            loss = criterion(output, target)\n",
    "            loss.backward()\n",
    "            optimizer.step()\n",
    "            train_loss += loss.item()\n",
    "            predicted = torch.argmax(output.data, dim=1)\n",
    "            total_train += target.size(0)\n",
    "            correct_train += (predicted == target).sum().item()\n",
    "        avg_train_loss = train_loss / len(train_loader)\n",
    "        train_acc = 100 * correct_train / total_train\n",
    "        model.eval()\n",
    "        test_loss = 0\n",
    "        correct_test = 0\n",
    "        total_test = 0\n",
    "        with torch.no_grad():\n",
    "            for data, target in test_loader:\n",
    "                output = model(data)\n",
    "                loss = criterion(output, target)\n",
    "                test_loss += loss.item()\n",
    "                predicted = torch.argmax(output.data, dim=1)\n",
    "                total_test += target.size(0)\n",
    "                correct_test += (predicted == target).sum().item()\n",
    "        avg_test_loss = test_loss / len(test_loader)\n",
    "        test_acc = 100 * correct_test / total_test\n",
    "        print(f'Epoch {epoch + 1}, Train Loss: {avg_train_loss:.4f}, Train Accuracy: {train_acc:.8f}%')\n",
    "        print(f'Test Loss: {avg_test_loss:.4f}, Test Accuracy: {test_acc:.8f}%')"
   ]
  },
  {
   "cell_type": "code",
   "execution_count": 11,
   "metadata": {},
   "outputs": [
    {
     "name": "stdout",
     "output_type": "stream",
     "text": [
      "Epoch 1, Train Loss: 0.0115, Train Accuracy: 100.00000000%, \n",
      "Test Loss: 0.6275, Test Accuracy: 82.00000000%\n",
      "Epoch 2, Train Loss: 0.0093, Train Accuracy: 100.00000000%, \n",
      "Test Loss: 0.6414, Test Accuracy: 80.00000000%\n",
      "Epoch 3, Train Loss: 0.0078, Train Accuracy: 100.00000000%, \n",
      "Test Loss: 0.6346, Test Accuracy: 84.00000000%\n",
      "Epoch 4, Train Loss: 0.0068, Train Accuracy: 100.00000000%, \n",
      "Test Loss: 0.6455, Test Accuracy: 80.00000000%\n",
      "Epoch 5, Train Loss: 0.0058, Train Accuracy: 100.00000000%, \n",
      "Test Loss: 0.6555, Test Accuracy: 80.00000000%\n",
      "Epoch 6, Train Loss: 0.0050, Train Accuracy: 100.00000000%, \n",
      "Test Loss: 0.6645, Test Accuracy: 80.00000000%\n",
      "Epoch 7, Train Loss: 0.0046, Train Accuracy: 100.00000000%, \n",
      "Test Loss: 0.6695, Test Accuracy: 80.00000000%\n",
      "Epoch 8, Train Loss: 0.0038, Train Accuracy: 100.00000000%, \n",
      "Test Loss: 0.6744, Test Accuracy: 80.00000000%\n",
      "Epoch 9, Train Loss: 0.0034, Train Accuracy: 100.00000000%, \n",
      "Test Loss: 0.6825, Test Accuracy: 80.00000000%\n",
      "Epoch 10, Train Loss: 0.0030, Train Accuracy: 100.00000000%, \n",
      "Test Loss: 0.6791, Test Accuracy: 78.00000000%\n"
     ]
    }
   ],
   "source": [
    "train_model(10)"
   ]
  }
 ],
 "metadata": {
  "kernelspec": {
   "display_name": ".venv",
   "language": "python",
   "name": "python3"
  },
  "language_info": {
   "codemirror_mode": {
    "name": "ipython",
    "version": 3
   },
   "file_extension": ".py",
   "mimetype": "text/x-python",
   "name": "python",
   "nbconvert_exporter": "python",
   "pygments_lexer": "ipython3",
   "version": "3.11.4"
  },
  "orig_nbformat": 4
 },
 "nbformat": 4,
 "nbformat_minor": 2
}
