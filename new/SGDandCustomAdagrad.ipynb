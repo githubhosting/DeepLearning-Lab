{
 "cells": [
  {
   "attachments": {},
   "cell_type": "markdown",
   "metadata": {},
   "source": [
    "### Program 4:\n",
    "#### Objective:\n",
    "Write a program to implement the SGD and Adagrad optimizers using the PyTorch framework, and\n",
    "compare results using the MNIST digit classification dataset. Use a simple CNN to illustrate the\n",
    "difference between the two optimizers.\n",
    "Perform the following steps:\n",
    "- Preprocess data\n",
    "- Define SGD and Adagrad optimizers from scratch\n",
    "- Define a simple CNN model architecture\n",
    "- Train CNN model using suitable criterion and each optimizer"
   ]
  },
  {
   "cell_type": "code",
   "execution_count": 19,
   "metadata": {},
   "outputs": [],
   "source": [
    "import torch\n",
    "import torch.nn as nn\n",
    "import torch.nn.functional as F\n",
    "from torchvision import datasets, transforms\n",
    "from torch.utils.data import DataLoader, Subset"
   ]
  },
  {
   "cell_type": "code",
   "execution_count": 20,
   "metadata": {},
   "outputs": [],
   "source": [
    "# Define the transformations\n",
    "transform = transforms.Compose([\n",
    "    transforms.ToTensor(),\n",
    "    transforms.Normalize((0.1307,), (0.3081,))\n",
    "])\n",
    "\n",
    "# Load the datasets\n",
    "train_dataset = datasets.MNIST(root=\"./data\", train=True, download=False, transform=transform)\n",
    "test_dataset = datasets.MNIST(root=\"./data\", train=False, download=False, transform=transform)\n",
    "\n",
    "# Create subsets\n",
    "train_subset = Subset(train_dataset, range(200))\n",
    "test_subset = Subset(test_dataset, range(50))\n",
    "\n",
    "# Create data loaders\n",
    "train_loader = DataLoader(train_subset, batch_size=10, shuffle=True)\n",
    "test_loader = DataLoader(test_subset, batch_size=10, shuffle=False)\n"
   ]
  },
  {
   "cell_type": "code",
   "execution_count": 21,
   "metadata": {},
   "outputs": [],
   "source": [
    "class SimpleCNN(nn.Module):\n",
    "    def __init__(self):\n",
    "        super(SimpleCNN, self).__init__()\n",
    "        self.conv1 = nn.Conv2d(1, 10, kernel_size=5)\n",
    "        self.conv2 = nn.Conv2d(10, 20, kernel_size=5)\n",
    "        self.fc1 = nn.Linear(320, 50)\n",
    "        self.fc2 = nn.Linear(50, 10)\n",
    "\n",
    "    def forward(self, x):\n",
    "        x = F.relu(F.max_pool2d(self.conv1(x), 2))\n",
    "        x = F.relu(F.max_pool2d(self.conv2(x), 2))\n",
    "        x = x.view(-1, 320)\n",
    "        x = F.relu(self.fc1(x))\n",
    "        x = self.fc2(x)\n",
    "        return F.log_softmax(x, dim=1)"
   ]
  },
  {
   "cell_type": "code",
   "execution_count": null,
   "metadata": {},
   "outputs": [],
   "source": [
    "def sgd_update(parametrs, lr):\n",
    "    with torch.no_grad():\n",
    "        for param in parameters:\n",
    "            if param.grad is not None:\n",
    "                param.data -= lr * param.grad.data\n",
    "                param.grad.zero_()\n",
    "\n",
    "\n",
    "class CustomAdagrad:\n",
    "    def __init__(self, parameters, lr=0.01, epsilon=1e-10):\n",
    "        self.parameters = list(parameters)\n",
    "        self.lr = lr\n",
    "        self.epsilon = epsilon\n",
    "        self.sum_squared_gradients = [torch.zeros_like(p) for p in self.parameters]\n",
    "\n",
    "    def step(self):\n",
    "        with torch.no_grad():\n",
    "            for param, sum_sq_grad in zip(self.parameters, self.sum_squared_gradients):\n",
    "                if param.grad is not None:\n",
    "                    sum_sq_grad += param.grad.data**2\n",
    "                    adjusted_lr = self.lr / (self.epsilon + torch.sqrt(sum_sq_grad))\n",
    "                    param.data -= adjusted_lr * param.grad.data\n",
    "                    param.grad.zero_()"
   ]
  },
  {
   "cell_type": "code",
   "execution_count": 22,
   "metadata": {},
   "outputs": [],
   "source": [
    "device = torch.device('cpu')\n",
    "model = SimpleCNN().to(device)\n",
    "criterion = nn.CrossEntropyLoss()"
   ]
  },
  {
   "cell_type": "code",
   "execution_count": 23,
   "metadata": {},
   "outputs": [],
   "source": [
    "def train_model(num_epochs, optimizer_choice=\"adagrad\"):\n",
    "    if optimizer_choice == \"sgd\":\n",
    "        optimizer = None\n",
    "    else:\n",
    "        optimizer = CustomAdagrad(model.parameters(), lr=0.01)\n",
    "    for epoch in range(num_epochs):\n",
    "        model.train()\n",
    "        train_loss = 0\n",
    "        correct_train = 0\n",
    "        total_train = 0\n",
    "        for data, target in train_loader:\n",
    "            data, target = data.to(device), target.to(device)\n",
    "            output = model(data)\n",
    "            loss = criterion(output, target)\n",
    "            loss.backward()\n",
    "            if optimizer_choice == \"sgd\":\n",
    "                sgd_update(model.parameters(), lr=0.01)\n",
    "            else:\n",
    "                optimizer.step()\n",
    "            train_loss += loss.item()\n",
    "            predicted = torch.argmax(output.data, dim=1)\n",
    "            total_train += target.size(0)\n",
    "            correct_train += (predicted == target).sum().item()\n",
    "\n",
    "        avg_train_loss = train_loss / len(train_loader)\n",
    "        train_acc = 100 * correct_train / total_train\n",
    "\n",
    "        model.eval()\n",
    "        test_loss = 0\n",
    "        correct_test = 0\n",
    "        total_test = 0\n",
    "        with torch.no_grad():  # test loss and eval metric\n",
    "            for data, target in test_loader:\n",
    "                output = model(data)\n",
    "                loss = criterion(output, target)\n",
    "                test_loss += loss.item()\n",
    "                predicted = torch.argmax(output.data, dim=1)\n",
    "                total_test += target.size(0)\n",
    "                correct_test += (predicted == target).sum().item()\n",
    "\n",
    "        avg_test_loss = test_loss / len(test_loader)\n",
    "        test_acc = 100 * correct_test / total_test  # test loss and eval metric\n",
    "        print(\n",
    "            f\"Epoch {epoch+1}, Train Loss: {avg_train_loss:.4f}, Train Accuracy: {train_acc:.8f}%, \"\n",
    "            f\"Test Loss: {avg_test_loss:.4f}, Test Accuracy: {test_acc:.8f}%\"\n",
    "        )"
   ]
  },
  {
   "cell_type": "code",
   "execution_count": 24,
   "metadata": {},
   "outputs": [],
   "source": [
    "train_model(7, optimizer_choice=\"adagrad\")"
   ]
  }
 ],
 "metadata": {
  "kernelspec": {
   "display_name": ".venv",
   "language": "python",
   "name": "python3"
  },
  "language_info": {
   "codemirror_mode": {
    "name": "ipython",
    "version": 3
   },
   "file_extension": ".py",
   "mimetype": "text/x-python",
   "name": "python",
   "nbconvert_exporter": "python",
   "pygments_lexer": "ipython3",
   "version": "3.11.4"
  },
  "orig_nbformat": 4
 },
 "nbformat": 4,
 "nbformat_minor": 2
}
